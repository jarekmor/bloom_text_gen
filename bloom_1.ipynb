{
 "cells": [
  {
   "cell_type": "markdown",
   "id": "f0ee15b4",
   "metadata": {},
   "source": [
    "## Create virtual enviroment in Python"
   ]
  },
  {
   "cell_type": "code",
   "execution_count": 8,
   "id": "ea57dfe5",
   "metadata": {},
   "outputs": [],
   "source": [
    "# mkdir bloom\n",
    "# cd bloom\n",
    "# python3 -m venv bloom_venv\n",
    "# source .bloom_venv/bin/activate\n",
    "\n",
    "## inspiration: https://towardsdatascience.com/getting-started-with-bloom-9e3295459b65\n",
    "## more info: https://huggingface.co/course/chapter0/1?fw=pt"
   ]
  },
  {
   "cell_type": "markdown",
   "id": "30abc268",
   "metadata": {},
   "source": [
    "## Install the libraries"
   ]
  },
  {
   "cell_type": "code",
   "execution_count": null,
   "id": "5cbb71f1",
   "metadata": {},
   "outputs": [],
   "source": [
    "# pip install transformers"
   ]
  },
  {
   "cell_type": "markdown",
   "id": "a808be05",
   "metadata": {},
   "source": [
    "## Code"
   ]
  },
  {
   "cell_type": "code",
   "execution_count": 1,
   "id": "e73e82a7",
   "metadata": {},
   "outputs": [],
   "source": [
    "import transformers\n",
    "from transformers import BloomForCausalLM\n",
    "from transformers import BloomTokenizerFast\n",
    "import torch"
   ]
  },
  {
   "cell_type": "code",
   "execution_count": 2,
   "id": "1ee4347d",
   "metadata": {},
   "outputs": [],
   "source": [
    "# Opion #1 - bloom model with 1 billion parameters (more than 1GB size)\n",
    "\n",
    "model = BloomForCausalLM.from_pretrained(\"bigscience/bloom-1b3\")\n",
    "tokenizer = BloomTokenizerFast.from_pretrained(\"bigscience/bloom-1b3\")"
   ]
  },
  {
   "cell_type": "code",
   "execution_count": 3,
   "id": "d43479bc",
   "metadata": {},
   "outputs": [],
   "source": [
    "# Option #2 - bloom model with 6 billion parameters (more than 12GB)\n",
    "\n",
    "#model = BloomForCausalLM.from_pretrained(\"bigscience/bloom-6b3\")\n",
    "#tokenizer = BloomTokenizerFast.from_pretrained(\"bigscience/bloom-6b3\")"
   ]
  },
  {
   "cell_type": "code",
   "execution_count": 6,
   "id": "9820dccc",
   "metadata": {},
   "outputs": [],
   "source": [
    "# Input for the model\n",
    "\n",
    "prompt = \"Data Fabric is modern data architecture which brings value to business by connecting \\ \n",
    "            distributed multivendor databases\"\n",
    "\n",
    "# arguments\n",
    "result_length = 200\n",
    "inputs = tokenizer(prompt, return_tensors=\"pt\")"
   ]
  },
  {
   "cell_type": "code",
   "execution_count": 7,
   "id": "824fd327",
   "metadata": {},
   "outputs": [
    {
     "name": "stdout",
     "output_type": "stream",
     "text": [
      "Data Fabric is modern data architecture which brings value to business by connecting distributed multivendor databases and applications. It is designed to be flexible, scalable, and easy to use. The data model is based on the concept of a data cube, which is a collection of data that can be accessed and manipulated by a single user. Data cubes are used to store, organize, analyze, visualize and share data across multiple data sources.\n",
      "The data cubes provide a common view of the data and allow users to easily access and manipulate data in a consistent way. In addition, the Data Fabric provides a set of APIs that allow developers to create applications that use data from the Fabric. These APIs are designed for developers who are not familiar with the underlying data models and data structures.</s>\n"
     ]
    }
   ],
   "source": [
    "# Beam search\n",
    "\n",
    "print(tokenizer.decode(model.generate(inputs[\"input_ids\"],\n",
    "                       max_length=result_length, \n",
    "                       num_beams=2, \n",
    "                       no_repeat_ngram_size=2,\n",
    "                       early_stopping=True\n",
    "                      )[0]))"
   ]
  },
  {
   "cell_type": "code",
   "execution_count": null,
   "id": "f31848f6",
   "metadata": {},
   "outputs": [],
   "source": []
  }
 ],
 "metadata": {
  "kernelspec": {
   "display_name": "bloom_venv",
   "language": "python",
   "name": "bloom_venv"
  },
  "language_info": {
   "codemirror_mode": {
    "name": "ipython",
    "version": 3
   },
   "file_extension": ".py",
   "mimetype": "text/x-python",
   "name": "python",
   "nbconvert_exporter": "python",
   "pygments_lexer": "ipython3",
   "version": "3.8.10"
  }
 },
 "nbformat": 4,
 "nbformat_minor": 5
}
